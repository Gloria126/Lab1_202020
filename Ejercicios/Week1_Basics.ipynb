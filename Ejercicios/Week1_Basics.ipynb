{
 "cells": [
  {
   "cell_type": "code",
   "execution_count": 21,
   "id": "ad7a903e",
   "metadata": {},
   "outputs": [],
   "source": [
    "# By Alejandro S\n",
    "\n",
    "#operación de concatenación * entre un entero y un string\n",
    "l = ['*'*x for x in range(100)]"
   ]
  },
  {
   "cell_type": "code",
   "execution_count": 22,
   "id": "69118d0d",
   "metadata": {},
   "outputs": [],
   "source": [
    "# n ultimos\n",
    "n = 10"
   ]
  },
  {
   "cell_type": "code",
   "execution_count": 30,
   "id": "d3c04711",
   "metadata": {},
   "outputs": [],
   "source": [
    "# Concatenamos las posiciones que queremos mostrar para hacer un solo for (optimal way)\n",
    "Total = l[:n] + l[-n:]"
   ]
  },
  {
   "cell_type": "code",
   "execution_count": 31,
   "id": "60d8062f",
   "metadata": {},
   "outputs": [
    {
     "name": "stdout",
     "output_type": "stream",
     "text": [
      "\n",
      "*\n",
      "**\n",
      "***\n",
      "****\n",
      "*****\n",
      "******\n",
      "*******\n",
      "********\n",
      "*********\n",
      "******************************************************************************************\n",
      "*******************************************************************************************\n",
      "********************************************************************************************\n",
      "*********************************************************************************************\n",
      "**********************************************************************************************\n",
      "***********************************************************************************************\n",
      "************************************************************************************************\n",
      "*************************************************************************************************\n",
      "**************************************************************************************************\n",
      "***************************************************************************************************\n"
     ]
    }
   ],
   "source": [
    "for i in Total:\n",
    "    print(i)"
   ]
  },
  {
   "cell_type": "code",
   "execution_count": null,
   "id": "682e005c",
   "metadata": {},
   "outputs": [],
   "source": []
  }
 ],
 "metadata": {
  "kernelspec": {
   "display_name": "Python 3",
   "language": "python",
   "name": "python3"
  },
  "language_info": {
   "codemirror_mode": {
    "name": "ipython",
    "version": 3
   },
   "file_extension": ".py",
   "mimetype": "text/x-python",
   "name": "python",
   "nbconvert_exporter": "python",
   "pygments_lexer": "ipython3",
   "version": "3.8.2"
  }
 },
 "nbformat": 4,
 "nbformat_minor": 5
}
