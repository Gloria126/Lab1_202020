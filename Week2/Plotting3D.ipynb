{
 "cells": [
  {
   "cell_type": "code",
   "execution_count": 1,
   "id": "2e47d180",
   "metadata": {},
   "outputs": [],
   "source": [
    "%matplotlib notebook \n",
    "#%pylab\n",
    "import numpy as np\n",
    "import matplotlib.pyplot as plt\n",
    "from mpl_toolkits.mplot3d import axes3d\n",
    "import matplotlib.animation as anim\n",
    "from matplotlib import rc\n",
    "#from tqdm import tqdm "
   ]
  },
  {
   "cell_type": "code",
   "execution_count": 2,
   "id": "b97fcab3",
   "metadata": {},
   "outputs": [],
   "source": [
    "# Random walk\n",
    "\n",
    "N = 100\n",
    "\n",
    "x = np.zeros(N)\n",
    "y = np.zeros(N)\n",
    "z = np.zeros(N)\n",
    "\n",
    "for i in range(1,N):\n",
    "    \n",
    "    phi = 2*np.pi*np.random.rand() # Genera un numero aleatorio entre 0 y 2pi\n",
    "    theta = np.pi*np.random.rand()\n",
    "    \n",
    "    # Futuro # Presente\n",
    "    \n",
    "    x[i] = x[i-1] + np.sin(theta)*np.cos(phi)\n",
    "    y[i] = y[i-1] + np.sin(theta)*np.sin(phi)\n",
    "    z[i] = z[i-1] + np.cos(theta)\n",
    "    \n"
   ]
  },
  {
   "cell_type": "code",
   "execution_count": 3,
   "id": "37e0525e",
   "metadata": {},
   "outputs": [],
   "source": [
    "fig = plt.figure(figsize=(6,5))\n",
    "ax = fig.add_subplot(1,1,1, projection='3d', elev=30, azim=50)\n",
    "ax.set_xlim(-10,10)\n",
    "ax.clear()\n",
    "#ax.scatter(x,y,z)"
   ]
  },
  {
   "cell_type": "code",
   "execution_count": 4,
   "id": "0b1865a4",
   "metadata": {},
   "outputs": [],
   "source": [
    "fig = plt.figure(figsize=(6,5))\n",
    "ax = fig.add_subplot(1,1,1, projection='3d', elev=30, azim=50)\n",
    "\n",
    "def init():\n",
    "    ax.set_xlim(-10,10)\n",
    "    ax.set_ylim(-10,10)\n",
    "    ax.set_zlim(-10,10)\n",
    "    ax.set_xlabel(r'$x[m]$',fontsize=15)\n",
    "    ax.set_ylabel(r'$y[m]$',fontsize=15)\n",
    "    ax.set_zlabel(r'$z[m]$',fontsize=15)\n",
    "    \n",
    "# Definimos una funcion de actualizacion\n",
    "\n",
    "def Update(i):\n",
    "   # plot = ax.clear()\n",
    "    init()\n",
    "    plot = ax.scatter(x[i],y[i],z[i],color='k',marker='o')\n",
    "    return plot\n",
    "\n",
    "Animation = anim.FuncAnimation(fig,Update,frames=N,init_func=init)"
   ]
  },
  {
   "cell_type": "code",
   "execution_count": 5,
   "id": "17789a3c",
   "metadata": {},
   "outputs": [],
   "source": [
    "Writer = anim.writers['ffmpeg']\n",
    "writer_ = Writer(fps=50, metadata=dict(artist='Me'))\n",
    "Animation.save('CaminataAleatoria.mp4', writer=writer_)"
   ]
  }
 ],
 "metadata": {
  "kernelspec": {
   "display_name": "Python 3",
   "language": "python",
   "name": "python3"
  },
  "language_info": {
   "codemirror_mode": {
    "name": "ipython",
    "version": 3
   },
   "file_extension": ".py",
   "mimetype": "text/x-python",
   "name": "python",
   "nbconvert_exporter": "python",
   "pygments_lexer": "ipython3",
   "version": "3.8.2"
  }
 },
 "nbformat": 4,
 "nbformat_minor": 5
}
