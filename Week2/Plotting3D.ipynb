{
 "cells": [
  {
   "cell_type": "code",
   "execution_count": 1,
   "id": "1584ce90",
   "metadata": {},
   "outputs": [],
   "source": [
    "%matplotlib notebook \n",
    "#%pylab\n",
    "import numpy as np\n",
    "import matplotlib.pyplot as plt\n",
    "from mpl_toolkits.mplot3d import axes3d\n",
    "import matplotlib.animation as anim\n",
    "from matplotlib import rc\n",
    "#from tqdm import tqdm "
   ]
  },
  {
   "cell_type": "code",
   "execution_count": 7,
   "id": "cb409748",
   "metadata": {},
   "outputs": [],
   "source": [
    "# Random walk\n",
    "\n",
    "N = 2000\n",
    "\n",
    "x = np.zeros(N)\n",
    "y = np.zeros(N)\n",
    "z = np.zeros(N)\n",
    "\n",
    "for i in range(1,N):\n",
    "    \n",
    "    phi = 2*np.pi*np.random.rand() # Genera un numero aleatorio entre 0 y 2pi\n",
    "    theta = np.pi*np.random.rand()\n",
    "    \n",
    "    # Futuro # Presente\n",
    "    \n",
    "    x[i] = x[i-1] + np.sin(theta)*np.cos(phi)\n",
    "    y[i] = y[i-1] + np.sin(theta)*np.sin(phi)\n",
    "    z[i] = z[i-1] + np.cos(theta)\n",
    "    \n"
   ]
  },
  {
   "cell_type": "code",
   "execution_count": 8,
   "id": "d33c02b0",
   "metadata": {},
   "outputs": [],
   "source": [
    "#fig = plt.figure(figsize=(6,5))\n",
    "#ax = fig.add_subplot(1,1,1, projection='3d', elev=30, azim=50)\n",
    "#ax.scatter(x,y,z)"
   ]
  },
  {
   "cell_type": "code",
   "execution_count": null,
   "id": "3c6885a6",
   "metadata": {},
   "outputs": [],
   "source": [
    "fig = plt.figure(figsize=(6,5))\n",
    "ax = fig.add_subplot(1,1,1, projection='3d', elev=30, azim=50)\n",
    "\n"
   ]
  }
 ],
 "metadata": {
  "kernelspec": {
   "display_name": "Python 3",
   "language": "python",
   "name": "python3"
  },
  "language_info": {
   "codemirror_mode": {
    "name": "ipython",
    "version": 3
   },
   "file_extension": ".py",
   "mimetype": "text/x-python",
   "name": "python",
   "nbconvert_exporter": "python",
   "pygments_lexer": "ipython3",
   "version": "3.8.2"
  }
 },
 "nbformat": 4,
 "nbformat_minor": 5
}
